{
 "cells": [
  {
   "cell_type": "code",
   "execution_count": 1,
   "id": "f3d4d7ec-835c-4056-bb82-d434e50f92e3",
   "metadata": {},
   "outputs": [],
   "source": [
    "import numpy as np"
   ]
  },
  {
   "cell_type": "code",
   "execution_count": 2,
   "id": "7fe8f82c-a63e-49a7-8506-522c801678d9",
   "metadata": {},
   "outputs": [],
   "source": [
    "arr=np.random.randint(1,10,(4,4))"
   ]
  },
  {
   "cell_type": "code",
   "execution_count": 3,
   "id": "eeef04b0-ecc8-4a92-a48e-50a6b2c14857",
   "metadata": {},
   "outputs": [
    {
     "data": {
      "text/plain": [
       "array([[4, 3, 9, 7],\n",
       "       [6, 5, 1, 2],\n",
       "       [3, 2, 5, 7],\n",
       "       [3, 5, 5, 7]])"
      ]
     },
     "execution_count": 3,
     "metadata": {},
     "output_type": "execute_result"
    }
   ],
   "source": [
    "arr"
   ]
  },
  {
   "cell_type": "code",
   "execution_count": 5,
   "id": "2ac7a438-5306-494f-8ae6-244ee38ca5e1",
   "metadata": {},
   "outputs": [
    {
     "data": {
      "text/plain": [
       "array([[4, 3, 9, 7, 6, 5, 1, 2],\n",
       "       [3, 2, 5, 7, 3, 5, 5, 7]])"
      ]
     },
     "execution_count": 5,
     "metadata": {},
     "output_type": "execute_result"
    }
   ],
   "source": [
    "arr.reshape((2,8))"
   ]
  },
  {
   "cell_type": "code",
   "execution_count": 12,
   "id": "e1f2dd7d-daba-4781-904e-c1c871a1b175",
   "metadata": {},
   "outputs": [
    {
     "data": {
      "text/plain": [
       "array([[4, 6, 3, 3],\n",
       "       [3, 5, 2, 5],\n",
       "       [9, 1, 5, 5],\n",
       "       [7, 2, 7, 7]])"
      ]
     },
     "execution_count": 12,
     "metadata": {},
     "output_type": "execute_result"
    }
   ],
   "source": [
    "arr.T #Transpose og given array"
   ]
  },
  {
   "cell_type": "code",
   "execution_count": 15,
   "id": "5b3b1e40-6f82-4929-a1e4-4365d35e5041",
   "metadata": {},
   "outputs": [
    {
     "data": {
      "text/plain": [
       "array([[4, 3, 9, 7],\n",
       "       [6, 5, 1, 2],\n",
       "       [3, 2, 5, 7],\n",
       "       [3, 5, 5, 7]])"
      ]
     },
     "execution_count": 15,
     "metadata": {},
     "output_type": "execute_result"
    }
   ],
   "source": [
    "arr"
   ]
  },
  {
   "cell_type": "code",
   "execution_count": 17,
   "id": "df6805a9-7d13-446d-b890-795e255cc091",
   "metadata": {},
   "outputs": [
    {
     "data": {
      "text/plain": [
       "array([4, 3, 9, 7, 6, 5, 1, 2, 3, 2, 5, 7, 3, 5, 5, 7])"
      ]
     },
     "execution_count": 17,
     "metadata": {},
     "output_type": "execute_result"
    }
   ],
   "source": [
    "arr.flatten()  #Creates 1d array from multi dimension given array"
   ]
  },
  {
   "cell_type": "code",
   "execution_count": 21,
   "id": "6da1c4eb-ac58-43ac-ae14-16fab1e16b57",
   "metadata": {},
   "outputs": [],
   "source": [
    "a=np.expand_dims(arr,axis=1)"
   ]
  },
  {
   "cell_type": "code",
   "execution_count": 22,
   "id": "ab1561b4-05f0-42e4-bddd-ce9081668550",
   "metadata": {},
   "outputs": [
    {
     "data": {
      "text/plain": [
       "array([[[4, 3, 9, 7]],\n",
       "\n",
       "       [[6, 5, 1, 2]],\n",
       "\n",
       "       [[3, 2, 5, 7]],\n",
       "\n",
       "       [[3, 5, 5, 7]]])"
      ]
     },
     "execution_count": 22,
     "metadata": {},
     "output_type": "execute_result"
    }
   ],
   "source": [
    "a"
   ]
  },
  {
   "cell_type": "code",
   "execution_count": 23,
   "id": "bcf03297-3548-4e06-a5d6-ebb3cbb9797e",
   "metadata": {},
   "outputs": [
    {
     "data": {
      "text/plain": [
       "3"
      ]
     },
     "execution_count": 23,
     "metadata": {},
     "output_type": "execute_result"
    }
   ],
   "source": [
    "a.ndim"
   ]
  },
  {
   "cell_type": "code",
   "execution_count": 24,
   "id": "67a5eab0-c9db-4c04-bf4b-48d6fac2d7a0",
   "metadata": {},
   "outputs": [],
   "source": [
    "data=np.array([[1],[2],[3]]),"
   ]
  },
  {
   "cell_type": "code",
   "execution_count": 25,
   "id": "a0a69f9d-d2dc-4d67-bae1-7ed938d33154",
   "metadata": {},
   "outputs": [
    {
     "data": {
      "text/plain": [
       "(array([[1],\n",
       "        [2],\n",
       "        [3]]),)"
      ]
     },
     "execution_count": 25,
     "metadata": {},
     "output_type": "execute_result"
    }
   ],
   "source": [
    "data"
   ]
  },
  {
   "cell_type": "code",
   "execution_count": 27,
   "id": "9d97717a-8099-416d-9368-7b8f3cd360ac",
   "metadata": {},
   "outputs": [
    {
     "data": {
      "text/plain": [
       "array([1, 2, 3])"
      ]
     },
     "execution_count": 27,
     "metadata": {},
     "output_type": "execute_result"
    }
   ],
   "source": [
    "np.squeeze(data)"
   ]
  },
  {
   "cell_type": "code",
   "execution_count": 30,
   "id": "fec1ff42-df08-4def-bdfa-40a9a04f05bb",
   "metadata": {},
   "outputs": [
    {
     "data": {
      "text/plain": [
       "(array([[1],\n",
       "        [2],\n",
       "        [3]]),)"
      ]
     },
     "execution_count": 30,
     "metadata": {},
     "output_type": "execute_result"
    }
   ],
   "source": [
    "data"
   ]
  },
  {
   "cell_type": "code",
   "execution_count": 29,
   "id": "121a0538-495c-4580-b744-5ec15a9c6da6",
   "metadata": {},
   "outputs": [
    {
     "data": {
      "text/plain": [
       "array([1, 1, 2, 2, 3, 3])"
      ]
     },
     "execution_count": 29,
     "metadata": {},
     "output_type": "execute_result"
    }
   ],
   "source": [
    "np.repeat(data,2)"
   ]
  },
  {
   "cell_type": "code",
   "execution_count": 33,
   "id": "10cc8e67-3d44-4f59-a7f5-21358eb3038b",
   "metadata": {},
   "outputs": [
    {
     "data": {
      "text/plain": [
       "array([[[2],\n",
       "        [3],\n",
       "        [1]]])"
      ]
     },
     "execution_count": 33,
     "metadata": {},
     "output_type": "execute_result"
    }
   ],
   "source": [
    "np.roll(data,2)"
   ]
  },
  {
   "cell_type": "code",
   "execution_count": 37,
   "id": "cb7be321-bc4a-43f5-9d8f-43e0baf25a27",
   "metadata": {},
   "outputs": [
    {
     "data": {
      "text/plain": [
       "array([[[1],\n",
       "        [2],\n",
       "        [3]]])"
      ]
     },
     "execution_count": 37,
     "metadata": {},
     "output_type": "execute_result"
    }
   ],
   "source": [
    "np.roll(data,3)"
   ]
  },
  {
   "cell_type": "code",
   "execution_count": 39,
   "id": "e0d0730e-4c94-4d44-8ef3-3a54cc13c156",
   "metadata": {},
   "outputs": [
    {
     "data": {
      "text/plain": [
       "array([[[3],\n",
       "        [1],\n",
       "        [2]]])"
      ]
     },
     "execution_count": 39,
     "metadata": {},
     "output_type": "execute_result"
    }
   ],
   "source": [
    "np.roll(data,4)"
   ]
  },
  {
   "cell_type": "code",
   "execution_count": 40,
   "id": "0893952b-750b-4125-b76a-8ac4144e5711",
   "metadata": {},
   "outputs": [
    {
     "data": {
      "text/plain": [
       "array([[1, 0, 0, 0],\n",
       "       [0, 2, 0, 0],\n",
       "       [0, 0, 3, 0],\n",
       "       [0, 0, 0, 4]])"
      ]
     },
     "execution_count": 40,
     "metadata": {},
     "output_type": "execute_result"
    }
   ],
   "source": [
    "np.diag(np.array([1,2,3,4]))"
   ]
  },
  {
   "cell_type": "code",
   "execution_count": 41,
   "id": "2b6ff692-44fc-423b-a935-f3a18e917e71",
   "metadata": {},
   "outputs": [],
   "source": [
    "#Numpy - Binary Operators"
   ]
  },
  {
   "cell_type": "code",
   "execution_count": 44,
   "id": "03171006-126f-4938-be9b-db3a6193bf4d",
   "metadata": {},
   "outputs": [],
   "source": [
    "arr1 = np.random.randint(1,10,(3,4))\n",
    "arr2 = np.random.randint(1,10,(3,4))"
   ]
  },
  {
   "cell_type": "code",
   "execution_count": 45,
   "id": "3dc920bc-d970-4f77-992f-d4b1a481b07c",
   "metadata": {},
   "outputs": [
    {
     "data": {
      "text/plain": [
       "array([[6, 1, 9, 8],\n",
       "       [5, 7, 2, 5],\n",
       "       [6, 4, 8, 9]])"
      ]
     },
     "execution_count": 45,
     "metadata": {},
     "output_type": "execute_result"
    }
   ],
   "source": [
    "arr1"
   ]
  },
  {
   "cell_type": "code",
   "execution_count": 46,
   "id": "48cb85df-361f-4aac-809d-3058ecfca941",
   "metadata": {},
   "outputs": [
    {
     "data": {
      "text/plain": [
       "array([[6, 5, 7, 3],\n",
       "       [9, 1, 1, 3],\n",
       "       [3, 9, 4, 6]])"
      ]
     },
     "execution_count": 46,
     "metadata": {},
     "output_type": "execute_result"
    }
   ],
   "source": [
    "arr2"
   ]
  },
  {
   "cell_type": "code",
   "execution_count": 47,
   "id": "c31af37b-ca69-4a05-b386-562487ee94ac",
   "metadata": {},
   "outputs": [
    {
     "data": {
      "text/plain": [
       "array([[12,  6, 16, 11],\n",
       "       [14,  8,  3,  8],\n",
       "       [ 9, 13, 12, 15]])"
      ]
     },
     "execution_count": 47,
     "metadata": {},
     "output_type": "execute_result"
    }
   ],
   "source": [
    "arr1+arr2"
   ]
  },
  {
   "cell_type": "code",
   "execution_count": 48,
   "id": "27e7994a-7b8d-4053-af43-d006d6bca473",
   "metadata": {},
   "outputs": [
    {
     "data": {
      "text/plain": [
       "array([[36,  5, 63, 24],\n",
       "       [45,  7,  2, 15],\n",
       "       [18, 36, 32, 54]])"
      ]
     },
     "execution_count": 48,
     "metadata": {},
     "output_type": "execute_result"
    }
   ],
   "source": [
    "arr1*arr2"
   ]
  },
  {
   "cell_type": "code",
   "execution_count": 49,
   "id": "8d25fd6e-477e-40f3-a3fc-65167eb364e5",
   "metadata": {},
   "outputs": [
    {
     "data": {
      "text/plain": [
       "array([[ 0, -4,  2,  5],\n",
       "       [-4,  6,  1,  2],\n",
       "       [ 3, -5,  4,  3]])"
      ]
     },
     "execution_count": 49,
     "metadata": {},
     "output_type": "execute_result"
    }
   ],
   "source": [
    "arr1-arr2"
   ]
  },
  {
   "cell_type": "code",
   "execution_count": 50,
   "id": "83c7d6e3-1c8b-4b31-80c6-56381c033523",
   "metadata": {},
   "outputs": [
    {
     "data": {
      "text/plain": [
       "array([[1.        , 0.2       , 1.28571429, 2.66666667],\n",
       "       [0.55555556, 7.        , 2.        , 1.66666667],\n",
       "       [2.        , 0.44444444, 2.        , 1.5       ]])"
      ]
     },
     "execution_count": 50,
     "metadata": {},
     "output_type": "execute_result"
    }
   ],
   "source": [
    "arr1/arr2"
   ]
  },
  {
   "cell_type": "code",
   "execution_count": 51,
   "id": "ce0f1c7a-8e8e-41e2-a49b-a6f2f24d5fd6",
   "metadata": {},
   "outputs": [
    {
     "data": {
      "text/plain": [
       "array([[6, 1, 9, 8],\n",
       "       [5, 7, 2, 5],\n",
       "       [6, 4, 8, 9]])"
      ]
     },
     "execution_count": 51,
     "metadata": {},
     "output_type": "execute_result"
    }
   ],
   "source": [
    "arr1"
   ]
  },
  {
   "cell_type": "code",
   "execution_count": 52,
   "id": "6f24847c-aad5-452c-88ce-ed38471347e6",
   "metadata": {},
   "outputs": [
    {
     "data": {
      "text/plain": [
       "array([[6, 5, 7, 3],\n",
       "       [9, 1, 1, 3],\n",
       "       [3, 9, 4, 6]])"
      ]
     },
     "execution_count": 52,
     "metadata": {},
     "output_type": "execute_result"
    }
   ],
   "source": [
    "arr2"
   ]
  },
  {
   "cell_type": "code",
   "execution_count": 53,
   "id": "89e61a20-e5a1-400e-a284-fe228fc69ea5",
   "metadata": {},
   "outputs": [
    {
     "data": {
      "text/plain": [
       "array([[ 4, -1,  7,  6],\n",
       "       [ 3,  5,  0,  3],\n",
       "       [ 4,  2,  6,  7]])"
      ]
     },
     "execution_count": 53,
     "metadata": {},
     "output_type": "execute_result"
    }
   ],
   "source": [
    "arr1-2"
   ]
  },
  {
   "cell_type": "code",
   "execution_count": 54,
   "id": "9482f8f0-cc7d-4b74-ada8-a2e3dc1c2ecc",
   "metadata": {},
   "outputs": [],
   "source": [
    "#This all operations on array happend index wise"
   ]
  },
  {
   "cell_type": "code",
   "execution_count": 55,
   "id": "d1c292f3-713f-4831-a125-99f4f5303a9b",
   "metadata": {},
   "outputs": [
    {
     "data": {
      "text/plain": [
       "array([[  46656,       1, 4782969,     512],\n",
       "       [1953125,       7,       2,     125],\n",
       "       [    216,  262144,    4096,  531441]])"
      ]
     },
     "execution_count": 55,
     "metadata": {},
     "output_type": "execute_result"
    }
   ],
   "source": [
    "arr1**arr2"
   ]
  },
  {
   "cell_type": "code",
   "execution_count": 57,
   "id": "37a306db-77b4-4c7b-93d0-0ecc400fc966",
   "metadata": {},
   "outputs": [
    {
     "data": {
      "text/plain": [
       "array([[6, 1, 9, 8],\n",
       "       [5, 7, 2, 5],\n",
       "       [6, 4, 8, 9]])"
      ]
     },
     "execution_count": 57,
     "metadata": {},
     "output_type": "execute_result"
    }
   ],
   "source": [
    "arr1"
   ]
  },
  {
   "cell_type": "code",
   "execution_count": 59,
   "id": "f750cba8-4d4e-49ea-b6f1-deec4fab2e82",
   "metadata": {},
   "outputs": [
    {
     "data": {
      "text/plain": [
       "array([[-6, -1, -9, -8],\n",
       "       [-5, -7, -2, -5],\n",
       "       [-6, -4, -8, -9]])"
      ]
     },
     "execution_count": 59,
     "metadata": {},
     "output_type": "execute_result"
    }
   ],
   "source": [
    "-arr1"
   ]
  },
  {
   "cell_type": "code",
   "execution_count": 60,
   "id": "8c5e2c64-1c7d-4d84-9fda-2e7af57d739c",
   "metadata": {},
   "outputs": [
    {
     "data": {
      "text/plain": [
       "array([[False, False,  True,  True],\n",
       "       [False,  True,  True,  True],\n",
       "       [ True, False,  True,  True]])"
      ]
     },
     "execution_count": 60,
     "metadata": {},
     "output_type": "execute_result"
    }
   ],
   "source": [
    "arr1>arr2"
   ]
  },
  {
   "cell_type": "code",
   "execution_count": 61,
   "id": "e597d95e-8e2f-4364-91e9-6b5c84cf02eb",
   "metadata": {},
   "outputs": [],
   "source": [
    "#Numpy - String Functions"
   ]
  },
  {
   "cell_type": "code",
   "execution_count": 62,
   "id": "16b5e090-4074-46d0-a737-841e6adda297",
   "metadata": {},
   "outputs": [],
   "source": [
    "arr = np.array([\"sudh\",\"kumar\"])"
   ]
  },
  {
   "cell_type": "code",
   "execution_count": 63,
   "id": "626ffc7e-f17b-4c8e-99a6-b807a7073073",
   "metadata": {},
   "outputs": [
    {
     "data": {
      "text/plain": [
       "array(['sudh', 'kumar'], dtype='<U5')"
      ]
     },
     "execution_count": 63,
     "metadata": {},
     "output_type": "execute_result"
    }
   ],
   "source": [
    "arr"
   ]
  },
  {
   "cell_type": "code",
   "execution_count": 68,
   "id": "6c339209-7258-4142-832a-d76741c9919d",
   "metadata": {},
   "outputs": [
    {
     "data": {
      "text/plain": [
       "array(['SUDH', 'KUMAR'], dtype='<U5')"
      ]
     },
     "execution_count": 68,
     "metadata": {},
     "output_type": "execute_result"
    }
   ],
   "source": [
    "np.char.upper(arr)"
   ]
  },
  {
   "cell_type": "code",
   "execution_count": 69,
   "id": "6a8759a5-3f55-4e7f-a837-5df766a6d6c8",
   "metadata": {},
   "outputs": [
    {
     "data": {
      "text/plain": [
       "array(['sudh', 'kumar'], dtype='<U5')"
      ]
     },
     "execution_count": 69,
     "metadata": {},
     "output_type": "execute_result"
    }
   ],
   "source": [
    "np.char.lower(arr)"
   ]
  },
  {
   "cell_type": "code",
   "execution_count": 73,
   "id": "28d19961-a868-4ae7-a225-8a73d0765383",
   "metadata": {},
   "outputs": [
    {
     "data": {
      "text/plain": [
       "array(['Sudh', 'Kumar'], dtype='<U5')"
      ]
     },
     "execution_count": 73,
     "metadata": {},
     "output_type": "execute_result"
    }
   ],
   "source": [
    "np.char.capitalize(arr)"
   ]
  },
  {
   "cell_type": "code",
   "execution_count": 75,
   "id": "e178ed7c-4417-420c-9419-e988164b1205",
   "metadata": {},
   "outputs": [
    {
     "data": {
      "text/plain": [
       "array(['Sudh', 'Kumar'], dtype='<U5')"
      ]
     },
     "execution_count": 75,
     "metadata": {},
     "output_type": "execute_result"
    }
   ],
   "source": [
    "np.char.title(arr)"
   ]
  },
  {
   "cell_type": "code",
   "execution_count": 77,
   "id": "3ba0e4fd-243c-46c9-a699-05aa49595198",
   "metadata": {},
   "outputs": [],
   "source": [
    "#Numpy - Mathematical Functions"
   ]
  },
  {
   "cell_type": "code",
   "execution_count": 80,
   "id": "99feea68-3ae7-46b0-922f-2f2a91926b94",
   "metadata": {},
   "outputs": [
    {
     "data": {
      "text/plain": [
       "array([[6, 1, 9, 8],\n",
       "       [5, 7, 2, 5],\n",
       "       [6, 4, 8, 9]])"
      ]
     },
     "execution_count": 80,
     "metadata": {},
     "output_type": "execute_result"
    }
   ],
   "source": [
    "arr1"
   ]
  },
  {
   "cell_type": "code",
   "execution_count": 81,
   "id": "47766196-a7e2-4eb0-89e7-71cd239fd7f2",
   "metadata": {},
   "outputs": [
    {
     "data": {
      "text/plain": [
       "array([[-0.2794155 ,  0.84147098,  0.41211849,  0.98935825],\n",
       "       [-0.95892427,  0.6569866 ,  0.90929743, -0.95892427],\n",
       "       [-0.2794155 , -0.7568025 ,  0.98935825,  0.41211849]])"
      ]
     },
     "execution_count": 81,
     "metadata": {},
     "output_type": "execute_result"
    }
   ],
   "source": [
    "np.sin(arr1)"
   ]
  },
  {
   "cell_type": "code",
   "execution_count": 82,
   "id": "e36a7a9e-621e-41c6-ab65-61d9c9e62319",
   "metadata": {},
   "outputs": [
    {
     "data": {
      "text/plain": [
       "array([[-0.29100619,  1.55740772, -0.45231566, -6.79971146],\n",
       "       [-3.38051501,  0.87144798, -2.18503986, -3.38051501],\n",
       "       [-0.29100619,  1.15782128, -6.79971146, -0.45231566]])"
      ]
     },
     "execution_count": 82,
     "metadata": {},
     "output_type": "execute_result"
    }
   ],
   "source": [
    "np.tan(arr1)"
   ]
  },
  {
   "cell_type": "code",
   "execution_count": 83,
   "id": "6f2f379a-bbd5-469e-9b14-4814b10aca18",
   "metadata": {},
   "outputs": [
    {
     "data": {
      "text/plain": [
       "5.833333333333333"
      ]
     },
     "execution_count": 83,
     "metadata": {},
     "output_type": "execute_result"
    }
   ],
   "source": [
    "np.mean(arr1)"
   ]
  },
  {
   "cell_type": "code",
   "execution_count": 84,
   "id": "34d0134c-668c-444a-bfd7-60c29003e938",
   "metadata": {},
   "outputs": [
    {
     "data": {
      "text/plain": [
       "2.4776781245530843"
      ]
     },
     "execution_count": 84,
     "metadata": {},
     "output_type": "execute_result"
    }
   ],
   "source": [
    "np.std(arr1)"
   ]
  },
  {
   "cell_type": "code",
   "execution_count": 85,
   "id": "c5353bf2-5eef-4e07-8dd4-2e051531e100",
   "metadata": {},
   "outputs": [
    {
     "data": {
      "text/plain": [
       "array([[6, 1, 9, 8],\n",
       "       [5, 7, 2, 5],\n",
       "       [6, 4, 8, 9]])"
      ]
     },
     "execution_count": 85,
     "metadata": {},
     "output_type": "execute_result"
    }
   ],
   "source": [
    "arr1"
   ]
  },
  {
   "cell_type": "code",
   "execution_count": 86,
   "id": "0c4638fc-9ebe-4a03-b471-842461f39e17",
   "metadata": {},
   "outputs": [
    {
     "data": {
      "text/plain": [
       "9"
      ]
     },
     "execution_count": 86,
     "metadata": {},
     "output_type": "execute_result"
    }
   ],
   "source": [
    "np.max(arr1)"
   ]
  },
  {
   "cell_type": "code",
   "execution_count": 88,
   "id": "c3b12441-c505-4932-b80e-88eb2d30e02b",
   "metadata": {},
   "outputs": [
    {
     "data": {
      "text/plain": [
       "1"
      ]
     },
     "execution_count": 88,
     "metadata": {},
     "output_type": "execute_result"
    }
   ],
   "source": [
    "np.min(arr1)"
   ]
  },
  {
   "cell_type": "code",
   "execution_count": 89,
   "id": "572e6470-d3df-4000-8c90-cb25409c8f25",
   "metadata": {},
   "outputs": [
    {
     "data": {
      "text/plain": [
       "array([[4.03428793e+02, 2.71828183e+00, 8.10308393e+03, 2.98095799e+03],\n",
       "       [1.48413159e+02, 1.09663316e+03, 7.38905610e+00, 1.48413159e+02],\n",
       "       [4.03428793e+02, 5.45981500e+01, 2.98095799e+03, 8.10308393e+03]])"
      ]
     },
     "execution_count": 89,
     "metadata": {},
     "output_type": "execute_result"
    }
   ],
   "source": [
    "np.exp(arr1)"
   ]
  },
  {
   "cell_type": "code",
   "execution_count": 92,
   "id": "78b1e316-34a3-41a9-98b5-a921b57c7db0",
   "metadata": {},
   "outputs": [
    {
     "data": {
      "text/plain": [
       "6.0"
      ]
     },
     "execution_count": 92,
     "metadata": {},
     "output_type": "execute_result"
    }
   ],
   "source": [
    "np.median(arr1)"
   ]
  },
  {
   "cell_type": "code",
   "execution_count": 94,
   "id": "0bc7dac0-9549-4436-ad4a-b30eb88f100f",
   "metadata": {},
   "outputs": [
    {
     "data": {
      "text/plain": [
       "array([[6, 1, 9, 8],\n",
       "       [5, 7, 2, 5],\n",
       "       [6, 4, 8, 9]])"
      ]
     },
     "execution_count": 94,
     "metadata": {},
     "output_type": "execute_result"
    }
   ],
   "source": [
    "arr1"
   ]
  },
  {
   "cell_type": "code",
   "execution_count": 93,
   "id": "2283f6d2-82f5-4fa9-8b97-a62efa469baf",
   "metadata": {},
   "outputs": [
    {
     "data": {
      "text/plain": [
       "array([[216,   1, 729, 512],\n",
       "       [125, 343,   8, 125],\n",
       "       [216,  64, 512, 729]])"
      ]
     },
     "execution_count": 93,
     "metadata": {},
     "output_type": "execute_result"
    }
   ],
   "source": [
    "np.power(arr1,3)"
   ]
  },
  {
   "cell_type": "code",
   "execution_count": 95,
   "id": "0a0b3066-845d-452f-b244-c696d0212e88",
   "metadata": {},
   "outputs": [
    {
     "data": {
      "text/plain": [
       "2.4776781245530843"
      ]
     },
     "execution_count": 95,
     "metadata": {},
     "output_type": "execute_result"
    }
   ],
   "source": [
    "np.std(arr1)"
   ]
  },
  {
   "cell_type": "code",
   "execution_count": 96,
   "id": "4eb80e19-8a65-4de6-966f-5b65667bd58e",
   "metadata": {},
   "outputs": [
    {
     "data": {
      "text/plain": [
       "6.138888888888889"
      ]
     },
     "execution_count": 96,
     "metadata": {},
     "output_type": "execute_result"
    }
   ],
   "source": [
    "np.var(arr1)"
   ]
  },
  {
   "cell_type": "code",
   "execution_count": 97,
   "id": "60025fa1-0e49-4778-9a43-840959d42dcd",
   "metadata": {},
   "outputs": [],
   "source": [
    "#Numpy - Arithmetic Operations"
   ]
  },
  {
   "cell_type": "code",
   "execution_count": 98,
   "id": "ce136bdc-f924-4e44-8719-0644171c02c5",
   "metadata": {},
   "outputs": [
    {
     "data": {
      "text/plain": [
       "array([[6, 1, 9, 8],\n",
       "       [5, 7, 2, 5],\n",
       "       [6, 4, 8, 9]])"
      ]
     },
     "execution_count": 98,
     "metadata": {},
     "output_type": "execute_result"
    }
   ],
   "source": [
    "arr1"
   ]
  },
  {
   "cell_type": "code",
   "execution_count": 99,
   "id": "5edd8838-3774-4567-8c44-acfe6366a299",
   "metadata": {},
   "outputs": [
    {
     "data": {
      "text/plain": [
       "array([[6, 5, 7, 3],\n",
       "       [9, 1, 1, 3],\n",
       "       [3, 9, 4, 6]])"
      ]
     },
     "execution_count": 99,
     "metadata": {},
     "output_type": "execute_result"
    }
   ],
   "source": [
    "arr2"
   ]
  },
  {
   "cell_type": "code",
   "execution_count": 100,
   "id": "ddbf4dd5-9297-4a7d-9a1d-350f13143f1e",
   "metadata": {},
   "outputs": [
    {
     "data": {
      "text/plain": [
       "array([[ 0, -4,  2,  5],\n",
       "       [-4,  6,  1,  2],\n",
       "       [ 3, -5,  4,  3]])"
      ]
     },
     "execution_count": 100,
     "metadata": {},
     "output_type": "execute_result"
    }
   ],
   "source": [
    "arr1-arr2"
   ]
  },
  {
   "cell_type": "code",
   "execution_count": 102,
   "id": "413b065a-4328-4ce4-be04-aa8d63d26178",
   "metadata": {},
   "outputs": [
    {
     "data": {
      "text/plain": [
       "array([[ 0, -4,  2,  5],\n",
       "       [-4,  6,  1,  2],\n",
       "       [ 3, -5,  4,  3]])"
      ]
     },
     "execution_count": 102,
     "metadata": {},
     "output_type": "execute_result"
    }
   ],
   "source": [
    "np.subtract(arr1,arr2)"
   ]
  },
  {
   "cell_type": "code",
   "execution_count": 103,
   "id": "d9c251b7-6077-44d6-a07e-152b58494ac3",
   "metadata": {},
   "outputs": [
    {
     "data": {
      "text/plain": [
       "array([[36,  5, 63, 24],\n",
       "       [45,  7,  2, 15],\n",
       "       [18, 36, 32, 54]])"
      ]
     },
     "execution_count": 103,
     "metadata": {},
     "output_type": "execute_result"
    }
   ],
   "source": [
    "arr1*arr2"
   ]
  },
  {
   "cell_type": "code",
   "execution_count": 104,
   "id": "b20e174c-1c26-4b02-a524-75e5abaa0343",
   "metadata": {},
   "outputs": [
    {
     "data": {
      "text/plain": [
       "array([[36,  5, 63, 24],\n",
       "       [45,  7,  2, 15],\n",
       "       [18, 36, 32, 54]])"
      ]
     },
     "execution_count": 104,
     "metadata": {},
     "output_type": "execute_result"
    }
   ],
   "source": [
    "np.multiply(arr1,arr2)"
   ]
  },
  {
   "cell_type": "code",
   "execution_count": 105,
   "id": "f8129cfd-a6cc-43ac-9b46-d7531297471d",
   "metadata": {},
   "outputs": [
    {
     "data": {
      "text/plain": [
       "array([[2.44948974, 1.        , 3.        , 2.82842712],\n",
       "       [2.23606798, 2.64575131, 1.41421356, 2.23606798],\n",
       "       [2.44948974, 2.        , 2.82842712, 3.        ]])"
      ]
     },
     "execution_count": 105,
     "metadata": {},
     "output_type": "execute_result"
    }
   ],
   "source": [
    "np.sqrt(arr1)"
   ]
  },
  {
   "cell_type": "code",
   "execution_count": 106,
   "id": "76be58ef-4fec-4d2e-aed5-f171776d3326",
   "metadata": {},
   "outputs": [],
   "source": [
    "#Numpy - Statistical Functions"
   ]
  },
  {
   "cell_type": "code",
   "execution_count": 107,
   "id": "d5fa8704-c62f-4b1c-8d87-748d7db1b872",
   "metadata": {},
   "outputs": [
    {
     "data": {
      "text/plain": [
       "array([[6, 1, 9, 8],\n",
       "       [5, 7, 2, 5],\n",
       "       [6, 4, 8, 9]])"
      ]
     },
     "execution_count": 107,
     "metadata": {},
     "output_type": "execute_result"
    }
   ],
   "source": [
    "arr1"
   ]
  },
  {
   "cell_type": "code",
   "execution_count": 108,
   "id": "3be66ef7-a83a-4097-b22c-1211085b3048",
   "metadata": {},
   "outputs": [
    {
     "data": {
      "text/plain": [
       "5.833333333333333"
      ]
     },
     "execution_count": 108,
     "metadata": {},
     "output_type": "execute_result"
    }
   ],
   "source": [
    "np.mean(arr1)"
   ]
  },
  {
   "cell_type": "code",
   "execution_count": 109,
   "id": "e511ecfd-a3b1-4e02-82b7-d4f1d0e9aa4b",
   "metadata": {},
   "outputs": [
    {
     "data": {
      "text/plain": [
       "2.4776781245530843"
      ]
     },
     "execution_count": 109,
     "metadata": {},
     "output_type": "execute_result"
    }
   ],
   "source": [
    "np.std(arr1)"
   ]
  },
  {
   "cell_type": "code",
   "execution_count": 111,
   "id": "8a041923-9487-44bd-84a1-986051ea7cf5",
   "metadata": {},
   "outputs": [
    {
     "data": {
      "text/plain": [
       "1.0833333333333333"
      ]
     },
     "execution_count": 111,
     "metadata": {},
     "output_type": "execute_result"
    }
   ],
   "source": [
    "np.mean(arr1-arr2)"
   ]
  },
  {
   "cell_type": "code",
   "execution_count": 113,
   "id": "54a1f7a8-8282-402b-ac24-249cc6abf7fd",
   "metadata": {},
   "outputs": [
    {
     "data": {
      "text/plain": [
       "6.0"
      ]
     },
     "execution_count": 113,
     "metadata": {},
     "output_type": "execute_result"
    }
   ],
   "source": [
    "np.median(arr1)"
   ]
  },
  {
   "cell_type": "code",
   "execution_count": 114,
   "id": "3b9c4734-9caf-4e75-916c-0763221135f2",
   "metadata": {},
   "outputs": [
    {
     "data": {
      "text/plain": [
       "6.138888888888889"
      ]
     },
     "execution_count": 114,
     "metadata": {},
     "output_type": "execute_result"
    }
   ],
   "source": [
    "np.var(arr1)"
   ]
  },
  {
   "cell_type": "code",
   "execution_count": 115,
   "id": "8948866e-593e-460c-ad0d-47f371071235",
   "metadata": {},
   "outputs": [],
   "source": [
    "#Sort,Search and Count Functions"
   ]
  },
  {
   "cell_type": "code",
   "execution_count": 116,
   "id": "8aede4d0-ced9-444b-9c8c-c6016d718bc0",
   "metadata": {},
   "outputs": [],
   "source": [
    "import numpy as np"
   ]
  },
  {
   "cell_type": "code",
   "execution_count": 121,
   "id": "50378f1d-b0b0-4f73-919a-2f6d576553a4",
   "metadata": {},
   "outputs": [],
   "source": [
    "arr=np.array([7,2,9,8,4,6])"
   ]
  },
  {
   "cell_type": "code",
   "execution_count": 122,
   "id": "7d8399e7-b749-426d-b98d-7bc738c03686",
   "metadata": {},
   "outputs": [
    {
     "data": {
      "text/plain": [
       "array([7, 2, 9, 8, 4, 6])"
      ]
     },
     "execution_count": 122,
     "metadata": {},
     "output_type": "execute_result"
    }
   ],
   "source": [
    "arr"
   ]
  },
  {
   "cell_type": "code",
   "execution_count": 123,
   "id": "dc83af38-bc50-47b6-a0be-be76b3287dcb",
   "metadata": {},
   "outputs": [
    {
     "data": {
      "text/plain": [
       "array([2, 4, 6, 7, 8, 9])"
      ]
     },
     "execution_count": 123,
     "metadata": {},
     "output_type": "execute_result"
    }
   ],
   "source": [
    "np.sort(arr)"
   ]
  },
  {
   "cell_type": "code",
   "execution_count": 132,
   "id": "cb14ec28-a31e-4ad4-a6b7-51c2b2ae106e",
   "metadata": {},
   "outputs": [
    {
     "data": {
      "text/plain": [
       "2"
      ]
     },
     "execution_count": 132,
     "metadata": {},
     "output_type": "execute_result"
    }
   ],
   "source": [
    "np.searchsorted(arr,4) #Tells where i can put my data 4 in sorted arr that is i can put 4 at index positon of 2"
   ]
  },
  {
   "cell_type": "code",
   "execution_count": 131,
   "id": "471a5b32-7479-4909-940b-df0b3f453a5f",
   "metadata": {},
   "outputs": [
    {
     "data": {
      "text/plain": [
       "array([7, 2, 9, 8, 4, 6])"
      ]
     },
     "execution_count": 131,
     "metadata": {},
     "output_type": "execute_result"
    }
   ],
   "source": [
    "arr"
   ]
  },
  {
   "cell_type": "code",
   "execution_count": 134,
   "id": "79aa0bdc-5aaa-49dc-9c9d-936cc55aeeaa",
   "metadata": {},
   "outputs": [
    {
     "data": {
      "text/plain": [
       "6"
      ]
     },
     "execution_count": 134,
     "metadata": {},
     "output_type": "execute_result"
    }
   ],
   "source": [
    "np.searchsorted(arr,10)"
   ]
  },
  {
   "cell_type": "code",
   "execution_count": 135,
   "id": "b31ca2fa-a1b6-4727-bb4d-e980a723a71b",
   "metadata": {},
   "outputs": [
    {
     "data": {
      "text/plain": [
       "0"
      ]
     },
     "execution_count": 135,
     "metadata": {},
     "output_type": "execute_result"
    }
   ],
   "source": [
    "np.searchsorted(arr,1)"
   ]
  },
  {
   "cell_type": "code",
   "execution_count": 136,
   "id": "4d92844b-26da-4b47-918e-f4063628fb5a",
   "metadata": {},
   "outputs": [],
   "source": [
    "arr=np.array([0,4,5,1,2,4,4,5,5,6,9,7,5,1,2,4,5,1,2])"
   ]
  },
  {
   "cell_type": "code",
   "execution_count": 137,
   "id": "5ac9b726-0b49-4574-9c5e-31638f9fded3",
   "metadata": {},
   "outputs": [
    {
     "data": {
      "text/plain": [
       "array([0, 4, 5, 1, 2, 4, 4, 5, 5, 6, 9, 7, 5, 1, 2, 4, 5, 1, 2])"
      ]
     },
     "execution_count": 137,
     "metadata": {},
     "output_type": "execute_result"
    }
   ],
   "source": [
    "arr"
   ]
  },
  {
   "cell_type": "code",
   "execution_count": 138,
   "id": "33d73136-7b22-45d7-8c34-2ff4b3bcbfaa",
   "metadata": {},
   "outputs": [
    {
     "data": {
      "text/plain": [
       "18"
      ]
     },
     "execution_count": 138,
     "metadata": {},
     "output_type": "execute_result"
    }
   ],
   "source": [
    "np.count_nonzero(arr)"
   ]
  },
  {
   "cell_type": "code",
   "execution_count": 144,
   "id": "1121306a-9512-4fa3-82df-71c8e14914a1",
   "metadata": {},
   "outputs": [
    {
     "data": {
      "text/plain": [
       "(array([ 1,  2,  5,  6,  7,  8,  9, 10, 11, 12, 15, 16]),)"
      ]
     },
     "execution_count": 144,
     "metadata": {},
     "output_type": "execute_result"
    }
   ],
   "source": [
    "np.where(arr>2) #Gives array index where i have data>0"
   ]
  },
  {
   "cell_type": "code",
   "execution_count": 147,
   "id": "e5df03ee-0c82-4ef9-9a9f-9b1182656b77",
   "metadata": {},
   "outputs": [
    {
     "data": {
      "text/plain": [
       "array([0, 4, 5, 1, 2, 4, 4, 5, 5, 6, 9, 7, 5, 1, 2, 4, 5, 1, 2])"
      ]
     },
     "execution_count": 147,
     "metadata": {},
     "output_type": "execute_result"
    }
   ],
   "source": [
    "arr"
   ]
  },
  {
   "cell_type": "code",
   "execution_count": 146,
   "id": "6b341c8f-b053-4fba-a07d-c7babb35f0b4",
   "metadata": {},
   "outputs": [
    {
     "data": {
      "text/plain": [
       "array([6, 9, 7])"
      ]
     },
     "execution_count": 146,
     "metadata": {},
     "output_type": "execute_result"
    }
   ],
   "source": [
    "np.extract(arr>5,arr)"
   ]
  },
  {
   "cell_type": "code",
   "execution_count": 148,
   "id": "48f53840-89c3-4471-96a8-326db7ec236d",
   "metadata": {},
   "outputs": [
    {
     "data": {
      "text/plain": [
       "array([6, 9, 7])"
      ]
     },
     "execution_count": 148,
     "metadata": {},
     "output_type": "execute_result"
    }
   ],
   "source": [
    "arr[arr>5]"
   ]
  },
  {
   "cell_type": "code",
   "execution_count": 149,
   "id": "ecf97471-e239-470c-a1f6-e4d4a301aa69",
   "metadata": {},
   "outputs": [],
   "source": [
    "#Numpy - Byte Swapping"
   ]
  },
  {
   "cell_type": "code",
   "execution_count": 150,
   "id": "d6fccf97-6f9e-459c-85cd-7a75c350994b",
   "metadata": {},
   "outputs": [
    {
     "data": {
      "text/plain": [
       "array([0, 4, 5, 1, 2, 4, 4, 5, 5, 6, 9, 7, 5, 1, 2, 4, 5, 1, 2])"
      ]
     },
     "execution_count": 150,
     "metadata": {},
     "output_type": "execute_result"
    }
   ],
   "source": [
    "arr"
   ]
  },
  {
   "cell_type": "code",
   "execution_count": 152,
   "id": "0403009c-1d15-4cb5-bf72-7a20a74e7a09",
   "metadata": {},
   "outputs": [
    {
     "data": {
      "text/plain": [
       "array([                 0, 288230376151711744, 360287970189639680,\n",
       "        72057594037927936, 144115188075855872, 288230376151711744,\n",
       "       288230376151711744, 360287970189639680, 360287970189639680,\n",
       "       432345564227567616, 648518346341351424, 504403158265495552,\n",
       "       360287970189639680,  72057594037927936, 144115188075855872,\n",
       "       288230376151711744, 360287970189639680,  72057594037927936,\n",
       "       144115188075855872])"
      ]
     },
     "execution_count": 152,
     "metadata": {},
     "output_type": "execute_result"
    }
   ],
   "source": [
    "arr.byteswap() #Gives how internally that index data is stored in system"
   ]
  },
  {
   "cell_type": "code",
   "execution_count": 153,
   "id": "11d02b85-43b8-4bd8-8b2e-708ad595dd38",
   "metadata": {},
   "outputs": [],
   "source": [
    "#Numpy - Copies and Views"
   ]
  },
  {
   "cell_type": "code",
   "execution_count": 154,
   "id": "e142df31-f5bf-49b0-af10-2937c76ac882",
   "metadata": {},
   "outputs": [
    {
     "data": {
      "text/plain": [
       "array([0, 4, 5, 1, 2, 4, 4, 5, 5, 6, 9, 7, 5, 1, 2, 4, 5, 1, 2])"
      ]
     },
     "execution_count": 154,
     "metadata": {},
     "output_type": "execute_result"
    }
   ],
   "source": [
    "arr"
   ]
  },
  {
   "cell_type": "code",
   "execution_count": 155,
   "id": "14065705-44fc-4e85-8d1d-5ce31c69972d",
   "metadata": {},
   "outputs": [],
   "source": [
    "a=np.copy(arr) #Deep copy"
   ]
  },
  {
   "cell_type": "code",
   "execution_count": 156,
   "id": "399b413d-da04-42eb-82d5-14b928dcf658",
   "metadata": {},
   "outputs": [
    {
     "data": {
      "text/plain": [
       "array([0, 4, 5, 1, 2, 4, 4, 5, 5, 6, 9, 7, 5, 1, 2, 4, 5, 1, 2])"
      ]
     },
     "execution_count": 156,
     "metadata": {},
     "output_type": "execute_result"
    }
   ],
   "source": [
    "a"
   ]
  },
  {
   "cell_type": "code",
   "execution_count": 157,
   "id": "cf00de37-ef75-4fdd-9193-d1c706db5d83",
   "metadata": {},
   "outputs": [
    {
     "data": {
      "text/plain": [
       "array([0, 4, 5, 1, 2, 4, 4, 5, 5, 6, 9, 7, 5, 1, 2, 4, 5, 1, 2])"
      ]
     },
     "execution_count": 157,
     "metadata": {},
     "output_type": "execute_result"
    }
   ],
   "source": [
    "arr"
   ]
  },
  {
   "cell_type": "code",
   "execution_count": 160,
   "id": "fb507903-c539-4240-9050-004019722068",
   "metadata": {},
   "outputs": [],
   "source": [
    "b=arr.view()"
   ]
  },
  {
   "cell_type": "code",
   "execution_count": 161,
   "id": "26e83fe7-3b9f-4e42-9158-79fb82d2fc27",
   "metadata": {},
   "outputs": [
    {
     "data": {
      "text/plain": [
       "array([0, 4, 5, 1, 2, 4, 4, 5, 5, 6, 9, 7, 5, 1, 2, 4, 5, 1, 2])"
      ]
     },
     "execution_count": 161,
     "metadata": {},
     "output_type": "execute_result"
    }
   ],
   "source": [
    "b"
   ]
  },
  {
   "cell_type": "code",
   "execution_count": 162,
   "id": "6f12b285-182a-4204-94d7-6b80ee59f939",
   "metadata": {},
   "outputs": [],
   "source": [
    "b[0]=12"
   ]
  },
  {
   "cell_type": "code",
   "execution_count": 163,
   "id": "d3e6f871-ddc4-42e0-9156-61c2a5a544de",
   "metadata": {},
   "outputs": [
    {
     "data": {
      "text/plain": [
       "array([12,  4,  5,  1,  2,  4,  4,  5,  5,  6,  9,  7,  5,  1,  2,  4,  5,\n",
       "        1,  2])"
      ]
     },
     "execution_count": 163,
     "metadata": {},
     "output_type": "execute_result"
    }
   ],
   "source": [
    "b"
   ]
  },
  {
   "cell_type": "code",
   "execution_count": 164,
   "id": "5ad9ac15-d7f7-4ead-875a-b33a4e90ff88",
   "metadata": {},
   "outputs": [
    {
     "data": {
      "text/plain": [
       "array([12,  4,  5,  1,  2,  4,  4,  5,  5,  6,  9,  7,  5,  1,  2,  4,  5,\n",
       "        1,  2])"
      ]
     },
     "execution_count": 164,
     "metadata": {},
     "output_type": "execute_result"
    }
   ],
   "source": [
    "arr"
   ]
  },
  {
   "cell_type": "code",
   "execution_count": 166,
   "id": "b51f0899-3ea5-4262-93cb-d4f679cb1cba",
   "metadata": {},
   "outputs": [],
   "source": [
    "#Therefore view creates shallow copy\n",
    "#So change  in any one of both will change other as both point to same memory location"
   ]
  },
  {
   "cell_type": "code",
   "execution_count": 167,
   "id": "966bf59d-41ce-46ad-9c8e-6d559c771d7e",
   "metadata": {},
   "outputs": [],
   "source": [
    "#Numpy - Matrix Library"
   ]
  },
  {
   "cell_type": "code",
   "execution_count": 168,
   "id": "b87003ad-8ed9-41f1-904e-2e8e5fae3919",
   "metadata": {},
   "outputs": [],
   "source": [
    "import numpy.matlib as nm"
   ]
  },
  {
   "cell_type": "code",
   "execution_count": 169,
   "id": "cf91e2b5-6a5e-4f46-ad91-034fe2893600",
   "metadata": {},
   "outputs": [],
   "source": [
    "#This is matlib is matrix library in numpy"
   ]
  },
  {
   "cell_type": "code",
   "execution_count": 170,
   "id": "b79973d7-9e3d-45b6-b541-c363f18603c8",
   "metadata": {},
   "outputs": [
    {
     "data": {
      "text/plain": [
       "matrix([[0., 0., 0., 0., 0.]])"
      ]
     },
     "execution_count": 170,
     "metadata": {},
     "output_type": "execute_result"
    }
   ],
   "source": [
    "nm.zeros(5)"
   ]
  },
  {
   "cell_type": "code",
   "execution_count": 171,
   "id": "2b2548b3-de5c-465d-b851-6ad4377de94f",
   "metadata": {},
   "outputs": [
    {
     "data": {
      "text/plain": [
       "matrix([[1., 1., 1., 1.],\n",
       "        [1., 1., 1., 1.],\n",
       "        [1., 1., 1., 1.]])"
      ]
     },
     "execution_count": 171,
     "metadata": {},
     "output_type": "execute_result"
    }
   ],
   "source": [
    "nm.ones((3,4))"
   ]
  },
  {
   "cell_type": "code",
   "execution_count": 172,
   "id": "1ed35376-6080-4c01-85ba-7f273f6b078e",
   "metadata": {},
   "outputs": [
    {
     "data": {
      "text/plain": [
       "array([[1., 1., 1., 1.],\n",
       "       [1., 1., 1., 1.],\n",
       "       [1., 1., 1., 1.]])"
      ]
     },
     "execution_count": 172,
     "metadata": {},
     "output_type": "execute_result"
    }
   ],
   "source": [
    "np.ones((3,4))"
   ]
  },
  {
   "cell_type": "code",
   "execution_count": 174,
   "id": "1597c80b-33e8-4201-8a6d-63acc4fd7379",
   "metadata": {},
   "outputs": [
    {
     "data": {
      "text/plain": [
       "matrix([[1., 0., 0., 0.],\n",
       "        [0., 1., 0., 0.],\n",
       "        [0., 0., 1., 0.],\n",
       "        [0., 0., 0., 1.]])"
      ]
     },
     "execution_count": 174,
     "metadata": {},
     "output_type": "execute_result"
    }
   ],
   "source": [
    "nm.eye(4) #Identity square matrix "
   ]
  },
  {
   "cell_type": "code",
   "execution_count": 175,
   "id": "078dcf54-c6b6-4890-a303-010b19a71bfe",
   "metadata": {},
   "outputs": [],
   "source": [
    "#Numpy - Linear Algebra"
   ]
  },
  {
   "cell_type": "code",
   "execution_count": 179,
   "id": "bc931efa-75c9-44e1-8a8d-c9d6d7b46c89",
   "metadata": {},
   "outputs": [],
   "source": [
    "arr1 = np.random.randint(2,8,(4,4))"
   ]
  },
  {
   "cell_type": "code",
   "execution_count": 180,
   "id": "8142d712-1ee2-4b2e-ac98-86788ed416bd",
   "metadata": {},
   "outputs": [],
   "source": [
    "arr2 = np.random.randint(2,8,(4,4))"
   ]
  },
  {
   "cell_type": "code",
   "execution_count": 181,
   "id": "4e5a2e81-e76a-4c9c-a84d-362229c30fa8",
   "metadata": {},
   "outputs": [
    {
     "data": {
      "text/plain": [
       "array([[3, 3, 7, 6],\n",
       "       [4, 3, 7, 3],\n",
       "       [4, 4, 7, 4],\n",
       "       [6, 4, 6, 7]])"
      ]
     },
     "execution_count": 181,
     "metadata": {},
     "output_type": "execute_result"
    }
   ],
   "source": [
    "arr1"
   ]
  },
  {
   "cell_type": "code",
   "execution_count": 182,
   "id": "02dbbc81-69cd-4e73-907a-82426b7e0b51",
   "metadata": {},
   "outputs": [
    {
     "data": {
      "text/plain": [
       "array([[6, 6, 2, 4],\n",
       "       [4, 6, 2, 7],\n",
       "       [4, 2, 2, 4],\n",
       "       [4, 3, 2, 4]])"
      ]
     },
     "execution_count": 182,
     "metadata": {},
     "output_type": "execute_result"
    }
   ],
   "source": [
    "arr2"
   ]
  },
  {
   "cell_type": "code",
   "execution_count": 185,
   "id": "9c763454-6a15-40fa-80d2-eb2cf1591c1e",
   "metadata": {},
   "outputs": [
    {
     "data": {
      "text/plain": [
       "array([[ 82,  68,  38,  85],\n",
       "       [ 76,  65,  34,  77],\n",
       "       [ 84,  74,  38,  88],\n",
       "       [104,  93,  46, 104]])"
      ]
     },
     "execution_count": 185,
     "metadata": {},
     "output_type": "execute_result"
    }
   ],
   "source": [
    "arr1@arr2 #Does matrix multiplication on both array"
   ]
  },
  {
   "cell_type": "code",
   "execution_count": 190,
   "id": "3f82b22c-e987-4bf0-b64e-9f243d7f81bf",
   "metadata": {},
   "outputs": [
    {
     "data": {
      "text/plain": [
       "array([[ 82,  68,  38,  85],\n",
       "       [ 76,  65,  34,  77],\n",
       "       [ 84,  74,  38,  88],\n",
       "       [104,  93,  46, 104]])"
      ]
     },
     "execution_count": 190,
     "metadata": {},
     "output_type": "execute_result"
    }
   ],
   "source": [
    "np.dot(arr1,arr2) #Same does matrix multiplication in linear algebra"
   ]
  },
  {
   "cell_type": "code",
   "execution_count": null,
   "id": "6b5202a3-8b63-4c7b-8929-ec2f20aab8dd",
   "metadata": {},
   "outputs": [],
   "source": []
  },
  {
   "cell_type": "code",
   "execution_count": null,
   "id": "82389397-2c60-4009-aada-9f1be3f0aa04",
   "metadata": {},
   "outputs": [],
   "source": []
  }
 ],
 "metadata": {
  "kernelspec": {
   "display_name": "Python 3 (ipykernel)",
   "language": "python",
   "name": "python3"
  },
  "language_info": {
   "codemirror_mode": {
    "name": "ipython",
    "version": 3
   },
   "file_extension": ".py",
   "mimetype": "text/x-python",
   "name": "python",
   "nbconvert_exporter": "python",
   "pygments_lexer": "ipython3",
   "version": "3.10.8"
  }
 },
 "nbformat": 4,
 "nbformat_minor": 5
}
